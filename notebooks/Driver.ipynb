{
  "cells": [
    {
      "cell_type": "code",
      "source": [
        "from google.colab import drive\n",
        "drive.mount('/content/drive')\n",
        "%cd /content/drive/MyDrive/GitHub/rf-classifier\n",
        "\n",
        "from src.data.RetinaDataset import RetinaDataset\n",
        "from src.models.RetinaModel import RetinaModel\n",
        "from src.Experiment import Experiment"
      ],
      "metadata": {
        "colab": {
          "base_uri": "https://localhost:8080/"
        },
        "id": "kpS4bFugvrNW",
        "outputId": "0d01f6e7-eaf0-46a6-c583-db6cdf283d30"
      },
      "execution_count": 25,
      "outputs": [
        {
          "output_type": "error",
          "ename": "ModuleNotFoundError",
          "evalue": "No module named 'google.colab'",
          "traceback": [
            "\u001b[0;31m---------------------------------------------------------------------------\u001b[0m",
            "\u001b[0;31mModuleNotFoundError\u001b[0m                       Traceback (most recent call last)",
            "Cell \u001b[0;32mIn[25], line 1\u001b[0m\n\u001b[0;32m----> 1\u001b[0m \u001b[38;5;28;01mfrom\u001b[39;00m \u001b[38;5;21;01mgoogle\u001b[39;00m\u001b[38;5;21;01m.\u001b[39;00m\u001b[38;5;21;01mcolab\u001b[39;00m \u001b[38;5;28;01mimport\u001b[39;00m drive\n\u001b[1;32m      2\u001b[0m drive\u001b[38;5;241m.\u001b[39mmount(\u001b[38;5;124m'\u001b[39m\u001b[38;5;124m/content/drive\u001b[39m\u001b[38;5;124m'\u001b[39m)\n\u001b[1;32m      3\u001b[0m get_ipython()\u001b[38;5;241m.\u001b[39mrun_line_magic(\u001b[38;5;124m'\u001b[39m\u001b[38;5;124mcd\u001b[39m\u001b[38;5;124m'\u001b[39m, \u001b[38;5;124m'\u001b[39m\u001b[38;5;124m/content/drive/MyDrive/GitHub/rf-classifier\u001b[39m\u001b[38;5;124m'\u001b[39m)\n",
            "\u001b[0;31mModuleNotFoundError\u001b[0m: No module named 'google.colab'"
          ]
        }
      ]
    },
    {
      "cell_type": "markdown",
      "metadata": {
        "id": "kplSbV3g4bal"
      },
      "source": []
    },
    {
      "cell_type": "code",
      "execution_count": 26,
      "metadata": {},
      "outputs": [
        {
          "output_type": "stream",
          "name": "stdout",
          "text": [
            "Requirement already satisfied: google-api-python-client in /home/brayps/.virtualenvs/rf-classification/lib/python3.10/site-packages (2.68.0)\n",
            "Requirement already satisfied: httplib2<1dev,>=0.15.0 in /home/brayps/.virtualenvs/rf-classification/lib/python3.10/site-packages (from google-api-python-client) (0.21.0)\n",
            "Requirement already satisfied: uritemplate<5,>=3.0.1 in /home/brayps/.virtualenvs/rf-classification/lib/python3.10/site-packages (from google-api-python-client) (4.1.1)\n",
            "Requirement already satisfied: google-auth<3.0.0dev,>=1.19.0 in /home/brayps/.virtualenvs/rf-classification/lib/python3.10/site-packages (from google-api-python-client) (2.15.0)\n",
            "Requirement already satisfied: google-api-core!=2.0.*,!=2.1.*,!=2.2.*,!=2.3.0,<3.0.0dev,>=1.31.5 in /home/brayps/.virtualenvs/rf-classification/lib/python3.10/site-packages (from google-api-python-client) (2.11.0)\n",
            "Requirement already satisfied: google-auth-httplib2>=0.1.0 in /home/brayps/.virtualenvs/rf-classification/lib/python3.10/site-packages (from google-api-python-client) (0.1.0)\n",
            "Requirement already satisfied: requests<3.0.0dev,>=2.18.0 in /home/brayps/.virtualenvs/rf-classification/lib/python3.10/site-packages (from google-api-core!=2.0.*,!=2.1.*,!=2.2.*,!=2.3.0,<3.0.0dev,>=1.31.5->google-api-python-client) (2.21.0)\n",
            "Requirement already satisfied: protobuf!=3.20.0,!=3.20.1,!=4.21.0,!=4.21.1,!=4.21.2,!=4.21.3,!=4.21.4,!=4.21.5,<5.0.0dev,>=3.19.5 in /home/brayps/.virtualenvs/rf-classification/lib64/python3.10/site-packages (from google-api-core!=2.0.*,!=2.1.*,!=2.2.*,!=2.3.0,<3.0.0dev,>=1.31.5->google-api-python-client) (4.21.10)\n",
            "Requirement already satisfied: googleapis-common-protos<2.0dev,>=1.56.2 in /home/brayps/.virtualenvs/rf-classification/lib/python3.10/site-packages (from google-api-core!=2.0.*,!=2.1.*,!=2.2.*,!=2.3.0,<3.0.0dev,>=1.31.5->google-api-python-client) (1.57.0)\n",
            "Requirement already satisfied: pyasn1-modules>=0.2.1 in /home/brayps/.virtualenvs/rf-classification/lib/python3.10/site-packages (from google-auth<3.0.0dev,>=1.19.0->google-api-python-client) (0.2.8)\n",
            "Requirement already satisfied: cachetools<6.0,>=2.0.0 in /home/brayps/.virtualenvs/rf-classification/lib/python3.10/site-packages (from google-auth<3.0.0dev,>=1.19.0->google-api-python-client) (5.2.0)\n",
            "Requirement already satisfied: six>=1.9.0 in /home/brayps/.virtualenvs/rf-classification/lib/python3.10/site-packages (from google-auth<3.0.0dev,>=1.19.0->google-api-python-client) (1.12.0)\n",
            "Requirement already satisfied: rsa<5,>=3.1.4 in /home/brayps/.virtualenvs/rf-classification/lib/python3.10/site-packages (from google-auth<3.0.0dev,>=1.19.0->google-api-python-client) (4.7.2)\n",
            "Requirement already satisfied: pyparsing!=3.0.0,!=3.0.1,!=3.0.2,!=3.0.3,<4,>=2.4.2 in /home/brayps/.virtualenvs/rf-classification/lib/python3.10/site-packages (from httplib2<1dev,>=0.15.0->google-api-python-client) (3.0.9)\n",
            "Requirement already satisfied: pyasn1<0.5.0,>=0.4.6 in /home/brayps/.virtualenvs/rf-classification/lib/python3.10/site-packages (from pyasn1-modules>=0.2.1->google-auth<3.0.0dev,>=1.19.0->google-api-python-client) (0.4.8)\n",
            "Requirement already satisfied: urllib3<1.25,>=1.21.1 in /home/brayps/.virtualenvs/rf-classification/lib/python3.10/site-packages (from requests<3.0.0dev,>=2.18.0->google-api-core!=2.0.*,!=2.1.*,!=2.2.*,!=2.3.0,<3.0.0dev,>=1.31.5->google-api-python-client) (1.24.3)\n",
            "Requirement already satisfied: certifi>=2017.4.17 in /home/brayps/.virtualenvs/rf-classification/lib/python3.10/site-packages (from requests<3.0.0dev,>=2.18.0->google-api-core!=2.0.*,!=2.1.*,!=2.2.*,!=2.3.0,<3.0.0dev,>=1.31.5->google-api-python-client) (2022.9.24)\n",
            "Requirement already satisfied: chardet<3.1.0,>=3.0.2 in /home/brayps/.virtualenvs/rf-classification/lib/python3.10/site-packages (from requests<3.0.0dev,>=2.18.0->google-api-core!=2.0.*,!=2.1.*,!=2.2.*,!=2.3.0,<3.0.0dev,>=1.31.5->google-api-python-client) (3.0.4)\n",
            "Requirement already satisfied: idna<2.9,>=2.5 in /home/brayps/.virtualenvs/rf-classification/lib/python3.10/site-packages (from requests<3.0.0dev,>=2.18.0->google-api-core!=2.0.*,!=2.1.*,!=2.2.*,!=2.3.0,<3.0.0dev,>=1.31.5->google-api-python-client) (2.8)\n",
            "Requirement already satisfied: google-cloud in /home/brayps/.virtualenvs/rf-classification/lib/python3.10/site-packages (0.34.0)\n",
            "Requirement already satisfied: google-cloud-vision in /home/brayps/.virtualenvs/rf-classification/lib/python3.10/site-packages (3.1.4)\n",
            "Requirement already satisfied: proto-plus<2.0.0dev,>=1.22.0 in /home/brayps/.virtualenvs/rf-classification/lib/python3.10/site-packages (from google-cloud-vision) (1.22.1)\n",
            "Requirement already satisfied: google-api-core[grpc]!=2.0.*,!=2.1.*,!=2.2.*,!=2.3.*,!=2.4.*,!=2.5.*,!=2.6.*,!=2.7.*,<3.0.0dev,>=1.32.0 in /home/brayps/.virtualenvs/rf-classification/lib/python3.10/site-packages (from google-cloud-vision) (2.11.0)\n",
            "Requirement already satisfied: protobuf!=3.20.0,!=3.20.1,!=4.21.0,!=4.21.1,!=4.21.2,!=4.21.3,!=4.21.4,!=4.21.5,<5.0.0dev,>=3.19.5 in /home/brayps/.virtualenvs/rf-classification/lib64/python3.10/site-packages (from google-cloud-vision) (4.21.10)\n",
            "Requirement already satisfied: googleapis-common-protos<2.0dev,>=1.56.2 in /home/brayps/.virtualenvs/rf-classification/lib/python3.10/site-packages (from google-api-core[grpc]!=2.0.*,!=2.1.*,!=2.2.*,!=2.3.*,!=2.4.*,!=2.5.*,!=2.6.*,!=2.7.*,<3.0.0dev,>=1.32.0->google-cloud-vision) (1.57.0)\n",
            "Requirement already satisfied: google-auth<3.0dev,>=2.14.1 in /home/brayps/.virtualenvs/rf-classification/lib/python3.10/site-packages (from google-api-core[grpc]!=2.0.*,!=2.1.*,!=2.2.*,!=2.3.*,!=2.4.*,!=2.5.*,!=2.6.*,!=2.7.*,<3.0.0dev,>=1.32.0->google-cloud-vision) (2.15.0)\n",
            "Requirement already satisfied: requests<3.0.0dev,>=2.18.0 in /home/brayps/.virtualenvs/rf-classification/lib/python3.10/site-packages (from google-api-core[grpc]!=2.0.*,!=2.1.*,!=2.2.*,!=2.3.*,!=2.4.*,!=2.5.*,!=2.6.*,!=2.7.*,<3.0.0dev,>=1.32.0->google-cloud-vision) (2.21.0)\n",
            "Requirement already satisfied: grpcio-status<2.0dev,>=1.33.2 in /home/brayps/.virtualenvs/rf-classification/lib/python3.10/site-packages (from google-api-core[grpc]!=2.0.*,!=2.1.*,!=2.2.*,!=2.3.*,!=2.4.*,!=2.5.*,!=2.6.*,!=2.7.*,<3.0.0dev,>=1.32.0->google-cloud-vision) (1.51.1)\n",
            "Requirement already satisfied: grpcio<2.0dev,>=1.33.2 in /home/brayps/.virtualenvs/rf-classification/lib64/python3.10/site-packages (from google-api-core[grpc]!=2.0.*,!=2.1.*,!=2.2.*,!=2.3.*,!=2.4.*,!=2.5.*,!=2.6.*,!=2.7.*,<3.0.0dev,>=1.32.0->google-cloud-vision) (1.51.1)\n",
            "Requirement already satisfied: cachetools<6.0,>=2.0.0 in /home/brayps/.virtualenvs/rf-classification/lib/python3.10/site-packages (from google-auth<3.0dev,>=2.14.1->google-api-core[grpc]!=2.0.*,!=2.1.*,!=2.2.*,!=2.3.*,!=2.4.*,!=2.5.*,!=2.6.*,!=2.7.*,<3.0.0dev,>=1.32.0->google-cloud-vision) (5.2.0)\n",
            "Requirement already satisfied: pyasn1-modules>=0.2.1 in /home/brayps/.virtualenvs/rf-classification/lib/python3.10/site-packages (from google-auth<3.0dev,>=2.14.1->google-api-core[grpc]!=2.0.*,!=2.1.*,!=2.2.*,!=2.3.*,!=2.4.*,!=2.5.*,!=2.6.*,!=2.7.*,<3.0.0dev,>=1.32.0->google-cloud-vision) (0.2.8)\n",
            "Requirement already satisfied: rsa<5,>=3.1.4 in /home/brayps/.virtualenvs/rf-classification/lib/python3.10/site-packages (from google-auth<3.0dev,>=2.14.1->google-api-core[grpc]!=2.0.*,!=2.1.*,!=2.2.*,!=2.3.*,!=2.4.*,!=2.5.*,!=2.6.*,!=2.7.*,<3.0.0dev,>=1.32.0->google-cloud-vision) (4.7.2)\n",
            "Requirement already satisfied: six>=1.9.0 in /home/brayps/.virtualenvs/rf-classification/lib/python3.10/site-packages (from google-auth<3.0dev,>=2.14.1->google-api-core[grpc]!=2.0.*,!=2.1.*,!=2.2.*,!=2.3.*,!=2.4.*,!=2.5.*,!=2.6.*,!=2.7.*,<3.0.0dev,>=1.32.0->google-cloud-vision) (1.12.0)\n",
            "Requirement already satisfied: certifi>=2017.4.17 in /home/brayps/.virtualenvs/rf-classification/lib/python3.10/site-packages (from requests<3.0.0dev,>=2.18.0->google-api-core[grpc]!=2.0.*,!=2.1.*,!=2.2.*,!=2.3.*,!=2.4.*,!=2.5.*,!=2.6.*,!=2.7.*,<3.0.0dev,>=1.32.0->google-cloud-vision) (2022.9.24)\n",
            "Requirement already satisfied: chardet<3.1.0,>=3.0.2 in /home/brayps/.virtualenvs/rf-classification/lib/python3.10/site-packages (from requests<3.0.0dev,>=2.18.0->google-api-core[grpc]!=2.0.*,!=2.1.*,!=2.2.*,!=2.3.*,!=2.4.*,!=2.5.*,!=2.6.*,!=2.7.*,<3.0.0dev,>=1.32.0->google-cloud-vision) (3.0.4)\n",
            "Requirement already satisfied: idna<2.9,>=2.5 in /home/brayps/.virtualenvs/rf-classification/lib/python3.10/site-packages (from requests<3.0.0dev,>=2.18.0->google-api-core[grpc]!=2.0.*,!=2.1.*,!=2.2.*,!=2.3.*,!=2.4.*,!=2.5.*,!=2.6.*,!=2.7.*,<3.0.0dev,>=1.32.0->google-cloud-vision) (2.8)\n",
            "Requirement already satisfied: urllib3<1.25,>=1.21.1 in /home/brayps/.virtualenvs/rf-classification/lib/python3.10/site-packages (from requests<3.0.0dev,>=2.18.0->google-api-core[grpc]!=2.0.*,!=2.1.*,!=2.2.*,!=2.3.*,!=2.4.*,!=2.5.*,!=2.6.*,!=2.7.*,<3.0.0dev,>=1.32.0->google-cloud-vision) (1.24.3)\n",
            "Requirement already satisfied: pyasn1<0.5.0,>=0.4.6 in /home/brayps/.virtualenvs/rf-classification/lib/python3.10/site-packages (from pyasn1-modules>=0.2.1->google-auth<3.0dev,>=2.14.1->google-api-core[grpc]!=2.0.*,!=2.1.*,!=2.2.*,!=2.3.*,!=2.4.*,!=2.5.*,!=2.6.*,!=2.7.*,<3.0.0dev,>=1.32.0->google-cloud-vision) (0.4.8)\n"
          ]
        },
        {
          "output_type": "error",
          "ename": "ModuleNotFoundError",
          "evalue": "No module named 'google.colab'",
          "traceback": [
            "\u001b[0;31m---------------------------------------------------------------------------\u001b[0m",
            "\u001b[0;31mModuleNotFoundError\u001b[0m                       Traceback (most recent call last)",
            "Cell \u001b[0;32mIn[26], line 4\u001b[0m\n\u001b[1;32m      2\u001b[0m get_ipython()\u001b[38;5;241m.\u001b[39msystem(\u001b[38;5;124m'\u001b[39m\u001b[38;5;124m pip install google-cloud\u001b[39m\u001b[38;5;124m'\u001b[39m)\n\u001b[1;32m      3\u001b[0m get_ipython()\u001b[38;5;241m.\u001b[39msystem(\u001b[38;5;124m'\u001b[39m\u001b[38;5;124m pip install google-cloud-vision\u001b[39m\u001b[38;5;124m'\u001b[39m)\n\u001b[0;32m----> 4\u001b[0m \u001b[38;5;28;01mfrom\u001b[39;00m \u001b[38;5;21;01mgoogle\u001b[39;00m\u001b[38;5;21;01m.\u001b[39;00m\u001b[38;5;21;01mcolab\u001b[39;00m \u001b[38;5;28;01mimport\u001b[39;00m drive\n",
            "\u001b[0;31mModuleNotFoundError\u001b[0m: No module named 'google.colab'"
          ]
        }
      ],
      "source": [
        "! pip install --upgrade google-api-python-client\n",
        "! pip install google-cloud\n",
        "! pip install google-cloud-vision\n",
        "from google.colab import drive\n"
      ]
    },
    {
      "cell_type": "code",
      "execution_count": 1,
      "metadata": {
        "id": "Q-Hu8DgIY4O4",
        "colab": {
          "base_uri": "https://localhost:8080/",
          "height": 714
        },
        "outputId": "e92c6b90-923c-45ee-8f41-2c2182865e13"
      },
      "outputs": [
        {
          "output_type": "error",
          "ename": "NameError",
          "evalue": "name 'Experiment' is not defined",
          "traceback": [
            "\u001b[0;31m---------------------------------------------------------------------------\u001b[0m",
            "\u001b[0;31mNameError\u001b[0m                                 Traceback (most recent call last)",
            "Cell \u001b[0;32mIn[1], line 1\u001b[0m\n\u001b[0;32m----> 1\u001b[0m exp \u001b[38;5;241m=\u001b[39m \u001b[43mExperiment\u001b[49m(model_names \u001b[38;5;241m=\u001b[39m [\u001b[38;5;124m'\u001b[39m\u001b[38;5;124mresnet\u001b[39m\u001b[38;5;124m'\u001b[39m, \u001b[38;5;124m'\u001b[39m\u001b[38;5;124malexnet\u001b[39m\u001b[38;5;124m'\u001b[39m, \u001b[38;5;124m'\u001b[39m\u001b[38;5;124mdensenet\u001b[39m\u001b[38;5;124m'\u001b[39m, \u001b[38;5;124m'\u001b[39m\u001b[38;5;124msqueezenet\u001b[39m\u001b[38;5;124m'\u001b[39m, \u001b[38;5;124m'\u001b[39m\u001b[38;5;124mvgg\u001b[39m\u001b[38;5;124m'\u001b[39m],\n\u001b[1;32m      2\u001b[0m                 data_dir \u001b[38;5;241m=\u001b[39m \u001b[38;5;124m'\u001b[39m\u001b[38;5;124m/content/drive/MyDrive/CDA_Final_Project/data/\u001b[39m\u001b[38;5;132;01m{0}\u001b[39;00m\u001b[38;5;124m_Set/\u001b[39m\u001b[38;5;132;01m{1}\u001b[39;00m\u001b[38;5;124m_final/\u001b[39m\u001b[38;5;124m'\u001b[39m,\n\u001b[1;32m      3\u001b[0m                 label_file \u001b[38;5;241m=\u001b[39m \u001b[38;5;124m'\u001b[39m\u001b[38;5;124m/content/drive/MyDrive/CDA_Final_Project/data/\u001b[39m\u001b[38;5;132;01m{0}\u001b[39;00m\u001b[38;5;124m_Set/\u001b[39m\u001b[38;5;132;01m{1}\u001b[39;00m\u001b[38;5;124m_labels_final.csv\u001b[39m\u001b[38;5;124m'\u001b[39m,\n\u001b[1;32m      4\u001b[0m                 results_dir \u001b[38;5;241m=\u001b[39m \u001b[38;5;124m'\u001b[39m\u001b[38;5;124m/content/drive/MyDrive/CDA_Final_Project/results/raw_tables/\u001b[39m\u001b[38;5;124m'\u001b[39m,\n\u001b[1;32m      5\u001b[0m                 batch_size \u001b[38;5;241m=\u001b[39m \u001b[38;5;241m64\u001b[39m,\n\u001b[1;32m      6\u001b[0m                 num_epochs \u001b[38;5;241m=\u001b[39m \u001b[38;5;241m1\u001b[39m,\n\u001b[1;32m      7\u001b[0m                 feature_extract \u001b[38;5;241m=\u001b[39m \u001b[38;5;28;01mTrue\u001b[39;00m,\n\u001b[1;32m      8\u001b[0m                 learning_rates \u001b[38;5;241m=\u001b[39m [\u001b[38;5;241m0.02\u001b[39m],\n\u001b[1;32m      9\u001b[0m                 experiment_name \u001b[38;5;241m=\u001b[39m \u001b[38;5;124m\"\u001b[39m\u001b[38;5;124m2.0\u001b[39m\u001b[38;5;124m\"\u001b[39m,\n\u001b[1;32m     10\u001b[0m                 DEBUG \u001b[38;5;241m=\u001b[39m \u001b[38;5;28;01mTrue\u001b[39;00m)\n\u001b[1;32m     11\u001b[0m exp\u001b[38;5;241m.\u001b[39mrun(\u001b[38;5;241m1\u001b[39m)\n",
            "\u001b[0;31mNameError\u001b[0m: name 'Experiment' is not defined"
          ]
        }
      ],
      "source": [
        "exp = Experiment(model_names = ['resnet', 'alexnet', 'densenet', 'squeezenet', 'vgg'],\n",
        "                data_dir = '/content/drive/MyDrive/CDA_Final_Project/data/{0}_Set/{1}_final/',\n",
        "                label_file = '/content/drive/MyDrive/CDA_Final_Project/data/{0}_Set/{1}_labels_final.csv',\n",
        "                results_dir = '/content/drive/MyDrive/CDA_Final_Project/results/raw_tables/',\n",
        "                batch_size = 64,\n",
        "                num_epochs = 1,\n",
        "                feature_extract = True,\n",
        "                learning_rates = [0.02],\n",
        "                experiment_name = \"2.0\",\n",
        "                DEBUG = True)\n",
        "exp.run(1)"
      ]
    },
    {
      "cell_type": "code",
      "execution_count": null,
      "metadata": {},
      "outputs": [],
      "source": []
    }
  ],
  "metadata": {
    "accelerator": "GPU",
    "colab": {
      "provenance": []
    },
    "kernelspec": {
      "name": "python3108jvsc74a57bd0729f0794cc091547bfb95583ce0936e613c5b4e54145191e449230f7c11b1de7",
      "display_name": "Python 3.10.8 64-bit ('rf-classification': venv)"
    },
    "language_info": {
      "name": "python",
      "version": "3.10.8"
    },
    "gpuClass": "standard"
  },
  "nbformat": 4,
  "nbformat_minor": 0
}